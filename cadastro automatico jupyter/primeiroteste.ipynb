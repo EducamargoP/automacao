{
 "cells": [
  {
   "cell_type": "code",
   "execution_count": 1,
   "id": "69191c8e-bcd4-4597-bec1-b10c2fe3936f",
   "metadata": {},
   "outputs": [],
   "source": [
    "# para aprender vamos usar python\n",
    "\n",
    "# passo 1: entrar no site https://www.hashtagtreinamentos.com/automacao-web-com-selenium-em-python\n",
    "# passo 2: preencher nome, preencher e-mail\n",
    "# passo 3: clicar no botão para enviar o formulário "
   ]
  },
  {
   "cell_type": "code",
   "execution_count": 28,
   "id": "bea2dc03-ebe1-4462-94d5-af5295981a3c",
   "metadata": {},
   "outputs": [],
   "source": [
    "from selenium import webdriver\n",
    "from webdriver_manager.chrome import ChromeDriverManager\n",
    "from selenium.webdriver.chrome.service import Service \n",
    "\n",
    "\n",
    "servico = Service(ChromeDriverManager().install())\n",
    "\n",
    "navegador = webdriver.Chrome(service=servico)\n"
   ]
  },
  {
   "cell_type": "code",
   "execution_count": null,
   "id": "fa2565e0-9a7f-41e4-83c6-c4400a683346",
   "metadata": {},
   "outputs": [],
   "source": [
    "#passo 1:\n",
    "navegador.get(\"https://pages.hashtagtreinamentos.com/arquivo-python-1jGh7kZSxQLoznA_GgwnWa8f7LEl3kKCZ?origemurl=hashtag_yt_org_planilhapyt_8AMNaVt0z_M\")\n",
    "\n",
    "# passo 2:\n",
    "navegador.find_element ('xpath', '//*[@id=\"section-17877670\"]/section/div[2]/div/form/div[1]/div/div/div/input').send_keys(\"eduardocamargo24358@gmail.com\")\n"
   ]
  },
  {
   "cell_type": "code",
   "execution_count": null,
   "id": "36b16b5b-34e4-4423-8b03-f046f069d420",
   "metadata": {},
   "outputs": [],
   "source": []
  }
 ],
 "metadata": {
  "kernelspec": {
   "display_name": "Python 3 (ipykernel)",
   "language": "python",
   "name": "python3"
  },
  "language_info": {
   "codemirror_mode": {
    "name": "ipython",
    "version": 3
   },
   "file_extension": ".py",
   "mimetype": "text/x-python",
   "name": "python",
   "nbconvert_exporter": "python",
   "pygments_lexer": "ipython3",
   "version": "3.12.7"
  }
 },
 "nbformat": 4,
 "nbformat_minor": 5
}
